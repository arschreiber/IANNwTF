{
 "cells": [
  {
   "cell_type": "code",
   "execution_count": 11,
   "metadata": {},
   "outputs": [],
   "source": [
    "import tensorflow as tf\n",
    "import tensorflow_datasets as tfds\n",
    "import tqdm"
   ]
  },
  {
   "cell_type": "code",
   "execution_count": 12,
   "metadata": {},
   "outputs": [],
   "source": [
    "def prepare_data(input_ds, subtask):\n",
    "    # First Step\n",
    "    # change datatype to float32\n",
    "    ds = input_ds.map(lambda img, target: (tf.cast(img, tf.float32), target))\n",
    "    # flatten images\n",
    "    ds = ds.map(lambda img, target: (tf.reshape(img, (-1,)), target))\n",
    "    # normalize image values\n",
    "    ds = ds.map(lambda img, target: ((img/128.)-1.0, target))\n",
    "\n",
    "    # Second Step\n",
    "    zipped_ds = tf.data.Dataset.zip((ds.shuffle(1000), ds.shuffle(1000)))\n",
    "    # a + b >= 5 ?\n",
    "    if subtask == 1:\n",
    "        zipped_ds = zipped_ds.map(lambda x1, x2:\n",
    "                                 (x1[0], x2[0], x1[1] + x2[1] >= 5))\n",
    "    # a - b = ?\n",
    "    elif subtask == 2:\n",
    "        zipped_ds = zipped_ds.map(lambda x1, x2:\n",
    "                                 (x1[0], x2[0], x1[1] - x2[1]))\n",
    "    else:\n",
    "        print(f\"{subtask} is not a valid subtask!\")\n",
    "        exit(-1)\n",
    "\n",
    "    # Third Step\n",
    "    # shuffle the data\n",
    "    zipped_ds = zipped_ds.shuffle(1000)\n",
    "    # create batches\n",
    "    zipped_ds = zipped_ds.batch(32)\n",
    "    # prefetch\n",
    "    zipped_ds = zipped_ds.prefetch(tf.data.AUTOTUNE)\n",
    "\n",
    "    return zipped_ds\n"
   ]
  },
  {
   "cell_type": "code",
   "execution_count": 13,
   "metadata": {},
   "outputs": [],
   "source": [
    "def get_mnist_data(subtask):\n",
    "    train_dataset, test_dataset = tfds.load(\"mnist\", split=[\"train\", \"test\"],\n",
    "                                        as_supervised=True)\n",
    "\n",
    "    train_ds = prepare_data(train_dataset, subtask)\n",
    "    test_ds = prepare_data(test_dataset, subtask)\n",
    "\n",
    "    return (train_ds, test_ds)"
   ]
  },
  {
   "cell_type": "code",
   "execution_count": 14,
   "metadata": {},
   "outputs": [],
   "source": [
    "# load dataset\n",
    "train_dataset, test_dataset = tfds.load(\"mnist\", split=[\"train\", \"test\"],\n",
    "                                        as_supervised=True)\n",
    "\n",
    "# transform dataset\n",
    "# subtask 1\n",
    "train_ds_t1 = prepare_data(train_dataset, 1)\n",
    "test_ds_t1 = prepare_data(test_dataset, 1)\n",
    "\n",
    "# subtask 2\n",
    "train_ds_t2 = prepare_data(train_dataset, 2)\n",
    "test_ds_t2 = prepare_data(test_dataset, 2)\n",
    "\n"
   ]
  },
  {
   "cell_type": "code",
   "execution_count": 15,
   "metadata": {},
   "outputs": [],
   "source": [
    "class MNISTMath(tf.keras.Model):\n",
    "    def __init__(self, subtask, optimizer):\n",
    "        super().__init__()\n",
    "        self.optimizer = optimizer\n",
    "\n",
    "        self.dense1 = tf.keras.layers.Dense(32, activation=\"relu\")\n",
    "        self.dense2 = tf.keras.layers.Dense(32, activation=\"relu\")\n",
    "\n",
    "        # a + b >= 5 ?\n",
    "        if subtask == 1:\n",
    "            self.metrics_list = [tf.keras.metrics.Mean(name=\"loss\"),\n",
    "                                 tf.keras.metrics.BinaryAccuracy()]\n",
    "            self.loss_function = tf.keras.losses.BinaryCrossentropy()\n",
    "            self.out_layer = tf.keras.layers.Dense(1, activation=tf.nn.sigmoid)\n",
    "        # a + b = ?\n",
    "        elif subtask == 2:\n",
    "            self.metrics_list = [tf.keras.metrics.Mean(name=\"loss\"),\n",
    "                                 tf.keras.metrics.MeanSquaredError()]\n",
    "            self.loss_function = tf.keras.losses.MeanSquaredError()\n",
    "            self.out_layer = tf.keras.layers.Dense(1, activation=None)\n",
    "        else:\n",
    "            print(f\"{subtask} is not a valid subtask!\")\n",
    "            exit(-1)\n",
    "\n",
    "\n",
    "\n",
    "    def call(self, images):\n",
    "        img1, img2 = images\n",
    "\n",
    "        img1_x = self.dense1(img1)\n",
    "        img1_x = self.dense2(img1_x)\n",
    "\n",
    "        img2_x = self.dense1(img2)\n",
    "        img2_x = self.dense2(img2_x)\n",
    "\n",
    "        combined_x = tf.concat([img1_x, img2_x], axis=1)\n",
    "\n",
    "        return self.out_layer(combined_x)\n",
    "\n",
    "    \n",
    "    @property\n",
    "    def metrics(self):\n",
    "        return self.metrics_list\n",
    "\n",
    "    \n",
    "    def reset_metrics(self):\n",
    "        for metric in self.metrics:\n",
    "            metric.reset_states()\n",
    "\n",
    "    \n",
    "    def train_step(self, data):\n",
    "        img1, img2, label = data\n",
    "\n",
    "        with tf.GradientTape() as tape:\n",
    "            output = self((img1, img2))\n",
    "            loss = self.loss_function(label, output)\n",
    "        \n",
    "        gradients = tape.gradient(loss, self.trainable_variables)\n",
    "        self.optimizer.apply_gradients(zip(gradients, \n",
    "                                           self.trainable_variables))\n",
    "\n",
    "        self.metrics[0].update_state(loss)\n",
    "        self.metrics[1].update_state(output, label)\n",
    "\n",
    "        return {m.name: m.result() for m in self.metrics}\n",
    "\n",
    "    \n",
    "    def test_step(self, data):\n",
    "        img1, img2, label = data\n",
    "        output = self((img1, img2))\n",
    "        loss = self.loss_function(label, output)\n",
    "\n",
    "        self.metrics[0].update_state(loss)\n",
    "        self.metrics[1].update_state(output, label)\n",
    "\n",
    "        return {f\"val_{m.name}\": m.result() for m in self.metrics}"
   ]
  },
  {
   "cell_type": "code",
   "execution_count": 16,
   "metadata": {},
   "outputs": [],
   "source": [
    "def train_model(model, subtask):\n",
    "    train_ds, test_ds = get_mnist_data(subtask)\n",
    "\n",
    "    for e in range(10):\n",
    "        for data in tqdm.tqdm(train_ds):\n",
    "            metrics = model.train_step(data)\n",
    "\n",
    "        for name, value in metrics.items():\n",
    "            print(f\"Epoch {e}: {name}: {value}\")\n",
    "        model.reset_metrics()\n",
    "\n",
    "        for data in test_ds:\n",
    "            metrics = model.test_step(data)\n",
    "        \n",
    "        for name, value in metrics.items():\n",
    "            print(f\"Epoch {e}: {name}: {value}\")\n",
    "        model.reset_metrics()        \n",
    "\n"
   ]
  },
  {
   "cell_type": "code",
   "execution_count": 10,
   "metadata": {},
   "outputs": [
    {
     "name": "stderr",
     "output_type": "stream",
     "text": [
      "100%|██████████| 1875/1875 [00:29<00:00, 63.43it/s]\n"
     ]
    },
    {
     "name": "stdout",
     "output_type": "stream",
     "text": [
      "Epoch 0: loss: 0.2126404494047165\n",
      "Epoch 0: binary_accuracy: 0.0\n",
      "Epoch 0: val_loss: 0.15290650725364685\n",
      "Epoch 0: val_binary_accuracy: 0.0\n"
     ]
    },
    {
     "name": "stderr",
     "output_type": "stream",
     "text": [
      "100%|██████████| 1875/1875 [00:27<00:00, 68.42it/s]\n"
     ]
    },
    {
     "name": "stdout",
     "output_type": "stream",
     "text": [
      "Epoch 1: loss: 0.1497514545917511\n",
      "Epoch 1: binary_accuracy: 0.0013000000035390258\n",
      "Epoch 1: val_loss: 0.1421184539794922\n",
      "Epoch 1: val_binary_accuracy: 0.006500000134110451\n"
     ]
    },
    {
     "name": "stderr",
     "output_type": "stream",
     "text": [
      "100%|██████████| 1875/1875 [00:25<00:00, 73.57it/s]\n"
     ]
    },
    {
     "name": "stdout",
     "output_type": "stream",
     "text": [
      "Epoch 2: loss: 0.13071174919605255\n",
      "Epoch 2: binary_accuracy: 0.013383333571255207\n",
      "Epoch 2: val_loss: 0.1119108721613884\n",
      "Epoch 2: val_binary_accuracy: 0.018799999728798866\n"
     ]
    },
    {
     "name": "stderr",
     "output_type": "stream",
     "text": [
      "100%|██████████| 1875/1875 [00:27<00:00, 68.02it/s]\n"
     ]
    },
    {
     "name": "stdout",
     "output_type": "stream",
     "text": [
      "Epoch 3: loss: 0.1191619336605072\n",
      "Epoch 3: binary_accuracy: 0.04659999907016754\n",
      "Epoch 3: val_loss: 0.12256928533315659\n",
      "Epoch 3: val_binary_accuracy: 0.039000000804662704\n"
     ]
    },
    {
     "name": "stderr",
     "output_type": "stream",
     "text": [
      "100%|██████████| 1875/1875 [00:26<00:00, 71.89it/s]\n"
     ]
    },
    {
     "name": "stdout",
     "output_type": "stream",
     "text": [
      "Epoch 4: loss: 0.11309373378753662\n",
      "Epoch 4: binary_accuracy: 0.07916666567325592\n",
      "Epoch 4: val_loss: 0.10953357070684433\n",
      "Epoch 4: val_binary_accuracy: 0.0674000009894371\n"
     ]
    },
    {
     "name": "stderr",
     "output_type": "stream",
     "text": [
      "100%|██████████| 1875/1875 [00:25<00:00, 74.05it/s]\n"
     ]
    },
    {
     "name": "stdout",
     "output_type": "stream",
     "text": [
      "Epoch 5: loss: 0.10686416923999786\n",
      "Epoch 5: binary_accuracy: 0.10268333554267883\n",
      "Epoch 5: val_loss: 0.11979203671216965\n",
      "Epoch 5: val_binary_accuracy: 0.11469999700784683\n"
     ]
    },
    {
     "name": "stderr",
     "output_type": "stream",
     "text": [
      "100%|██████████| 1875/1875 [00:25<00:00, 74.41it/s]\n"
     ]
    },
    {
     "name": "stdout",
     "output_type": "stream",
     "text": [
      "Epoch 6: loss: 0.10306323319673538\n",
      "Epoch 6: binary_accuracy: 0.13696666061878204\n",
      "Epoch 6: val_loss: 0.10645131021738052\n",
      "Epoch 6: val_binary_accuracy: 0.14800000190734863\n"
     ]
    },
    {
     "name": "stderr",
     "output_type": "stream",
     "text": [
      "100%|██████████| 1875/1875 [00:25<00:00, 73.57it/s]\n"
     ]
    },
    {
     "name": "stdout",
     "output_type": "stream",
     "text": [
      "Epoch 7: loss: 0.1007736548781395\n",
      "Epoch 7: binary_accuracy: 0.14678333699703217\n",
      "Epoch 7: val_loss: 0.10923969745635986\n",
      "Epoch 7: val_binary_accuracy: 0.10199999809265137\n"
     ]
    },
    {
     "name": "stderr",
     "output_type": "stream",
     "text": [
      "100%|██████████| 1875/1875 [00:28<00:00, 65.91it/s]\n"
     ]
    },
    {
     "name": "stdout",
     "output_type": "stream",
     "text": [
      "Epoch 8: loss: 0.09834270179271698\n",
      "Epoch 8: binary_accuracy: 0.16113333404064178\n",
      "Epoch 8: val_loss: 0.12087224423885345\n",
      "Epoch 8: val_binary_accuracy: 0.2029000073671341\n"
     ]
    },
    {
     "name": "stderr",
     "output_type": "stream",
     "text": [
      "100%|██████████| 1875/1875 [00:25<00:00, 74.60it/s]\n"
     ]
    },
    {
     "name": "stdout",
     "output_type": "stream",
     "text": [
      "Epoch 9: loss: 0.09840365499258041\n",
      "Epoch 9: binary_accuracy: 0.16553333401679993\n",
      "Epoch 9: val_loss: 0.09328638762235641\n",
      "Epoch 9: val_binary_accuracy: 0.18960000574588776\n"
     ]
    },
    {
     "name": "stderr",
     "output_type": "stream",
     "text": [
      "100%|██████████| 1875/1875 [00:25<00:00, 74.69it/s]\n"
     ]
    },
    {
     "name": "stdout",
     "output_type": "stream",
     "text": [
      "Epoch 10: loss: 0.09403600543737411\n",
      "Epoch 10: binary_accuracy: 0.20021666586399078\n",
      "Epoch 10: val_loss: 0.10267162322998047\n",
      "Epoch 10: val_binary_accuracy: 0.23090000450611115\n"
     ]
    },
    {
     "name": "stderr",
     "output_type": "stream",
     "text": [
      "100%|██████████| 1875/1875 [00:25<00:00, 72.89it/s]\n"
     ]
    },
    {
     "name": "stdout",
     "output_type": "stream",
     "text": [
      "Epoch 11: loss: 0.09114468097686768\n",
      "Epoch 11: binary_accuracy: 0.21141666173934937\n",
      "Epoch 11: val_loss: 0.09608200192451477\n",
      "Epoch 11: val_binary_accuracy: 0.23309999704360962\n"
     ]
    },
    {
     "name": "stderr",
     "output_type": "stream",
     "text": [
      "100%|██████████| 1875/1875 [00:25<00:00, 74.01it/s]\n"
     ]
    },
    {
     "name": "stdout",
     "output_type": "stream",
     "text": [
      "Epoch 12: loss: 0.0903710126876831\n",
      "Epoch 12: binary_accuracy: 0.20928333699703217\n",
      "Epoch 12: val_loss: 0.10011415928602219\n",
      "Epoch 12: val_binary_accuracy: 0.2289000004529953\n"
     ]
    },
    {
     "name": "stderr",
     "output_type": "stream",
     "text": [
      "100%|██████████| 1875/1875 [00:24<00:00, 75.42it/s]\n"
     ]
    },
    {
     "name": "stdout",
     "output_type": "stream",
     "text": [
      "Epoch 13: loss: 0.09052987396717072\n",
      "Epoch 13: binary_accuracy: 0.2054833322763443\n",
      "Epoch 13: val_loss: 0.09986131638288498\n",
      "Epoch 13: val_binary_accuracy: 0.19820000231266022\n"
     ]
    },
    {
     "name": "stderr",
     "output_type": "stream",
     "text": [
      "100%|██████████| 1875/1875 [00:24<00:00, 76.42it/s]\n"
     ]
    },
    {
     "name": "stdout",
     "output_type": "stream",
     "text": [
      "Epoch 14: loss: 0.09195605665445328\n",
      "Epoch 14: binary_accuracy: 0.2061833292245865\n",
      "Epoch 14: val_loss: 0.10334300249814987\n",
      "Epoch 14: val_binary_accuracy: 0.22339999675750732\n"
     ]
    },
    {
     "name": "stderr",
     "output_type": "stream",
     "text": [
      "100%|██████████| 1875/1875 [00:24<00:00, 75.48it/s]\n"
     ]
    },
    {
     "name": "stdout",
     "output_type": "stream",
     "text": [
      "Epoch 15: loss: 0.08883222937583923\n",
      "Epoch 15: binary_accuracy: 0.2242833375930786\n",
      "Epoch 15: val_loss: 0.09720482677221298\n",
      "Epoch 15: val_binary_accuracy: 0.1826000064611435\n"
     ]
    },
    {
     "name": "stderr",
     "output_type": "stream",
     "text": [
      "100%|██████████| 1875/1875 [00:24<00:00, 76.91it/s]\n"
     ]
    },
    {
     "name": "stdout",
     "output_type": "stream",
     "text": [
      "Epoch 16: loss: 0.08489541709423065\n",
      "Epoch 16: binary_accuracy: 0.23768332600593567\n",
      "Epoch 16: val_loss: 0.09464848041534424\n",
      "Epoch 16: val_binary_accuracy: 0.2176000028848648\n"
     ]
    },
    {
     "name": "stderr",
     "output_type": "stream",
     "text": [
      "100%|██████████| 1875/1875 [00:24<00:00, 76.34it/s]\n"
     ]
    },
    {
     "name": "stdout",
     "output_type": "stream",
     "text": [
      "Epoch 17: loss: 0.08626019954681396\n",
      "Epoch 17: binary_accuracy: 0.23890000581741333\n",
      "Epoch 17: val_loss: 0.10198549926280975\n",
      "Epoch 17: val_binary_accuracy: 0.24500000476837158\n"
     ]
    },
    {
     "name": "stderr",
     "output_type": "stream",
     "text": [
      "100%|██████████| 1875/1875 [00:24<00:00, 76.33it/s]\n"
     ]
    },
    {
     "name": "stdout",
     "output_type": "stream",
     "text": [
      "Epoch 18: loss: 0.08555004745721817\n",
      "Epoch 18: binary_accuracy: 0.2433999925851822\n",
      "Epoch 18: val_loss: 0.09461842477321625\n",
      "Epoch 18: val_binary_accuracy: 0.24899999797344208\n"
     ]
    },
    {
     "name": "stderr",
     "output_type": "stream",
     "text": [
      "100%|██████████| 1875/1875 [00:24<00:00, 76.22it/s]\n"
     ]
    },
    {
     "name": "stdout",
     "output_type": "stream",
     "text": [
      "Epoch 19: loss: 0.0880432054400444\n",
      "Epoch 19: binary_accuracy: 0.23943333327770233\n",
      "Epoch 19: val_loss: 0.0829295739531517\n",
      "Epoch 19: val_binary_accuracy: 0.2547000050544739\n"
     ]
    },
    {
     "name": "stderr",
     "output_type": "stream",
     "text": [
      "100%|██████████| 1875/1875 [00:24<00:00, 75.77it/s]\n"
     ]
    },
    {
     "name": "stdout",
     "output_type": "stream",
     "text": [
      "Epoch 20: loss: 0.08079573512077332\n",
      "Epoch 20: binary_accuracy: 0.2716333270072937\n",
      "Epoch 20: val_loss: 0.08727940917015076\n",
      "Epoch 20: val_binary_accuracy: 0.2897000014781952\n"
     ]
    },
    {
     "name": "stderr",
     "output_type": "stream",
     "text": [
      "100%|██████████| 1875/1875 [00:24<00:00, 76.88it/s]\n"
     ]
    },
    {
     "name": "stdout",
     "output_type": "stream",
     "text": [
      "Epoch 21: loss: 0.08404643833637238\n",
      "Epoch 21: binary_accuracy: 0.2662000060081482\n",
      "Epoch 21: val_loss: 0.09838862717151642\n",
      "Epoch 21: val_binary_accuracy: 0.26840001344680786\n"
     ]
    },
    {
     "name": "stderr",
     "output_type": "stream",
     "text": [
      "100%|██████████| 1875/1875 [00:24<00:00, 76.85it/s]\n"
     ]
    },
    {
     "name": "stdout",
     "output_type": "stream",
     "text": [
      "Epoch 22: loss: 0.0799475908279419\n",
      "Epoch 22: binary_accuracy: 0.281416654586792\n",
      "Epoch 22: val_loss: 0.10145848244428635\n",
      "Epoch 22: val_binary_accuracy: 0.25060001015663147\n"
     ]
    },
    {
     "name": "stderr",
     "output_type": "stream",
     "text": [
      "100%|██████████| 1875/1875 [00:24<00:00, 76.93it/s]\n"
     ]
    },
    {
     "name": "stdout",
     "output_type": "stream",
     "text": [
      "Epoch 23: loss: 0.08235591650009155\n",
      "Epoch 23: binary_accuracy: 0.27364999055862427\n",
      "Epoch 23: val_loss: 0.09721849113702774\n",
      "Epoch 23: val_binary_accuracy: 0.31859999895095825\n"
     ]
    },
    {
     "name": "stderr",
     "output_type": "stream",
     "text": [
      "100%|██████████| 1875/1875 [00:24<00:00, 76.89it/s]\n"
     ]
    },
    {
     "name": "stdout",
     "output_type": "stream",
     "text": [
      "Epoch 24: loss: 0.07812958210706711\n",
      "Epoch 24: binary_accuracy: 0.303849995136261\n",
      "Epoch 24: val_loss: 0.10552582144737244\n",
      "Epoch 24: val_binary_accuracy: 0.2890999913215637\n"
     ]
    },
    {
     "name": "stderr",
     "output_type": "stream",
     "text": [
      "100%|██████████| 1875/1875 [00:26<00:00, 70.42it/s]\n"
     ]
    },
    {
     "name": "stdout",
     "output_type": "stream",
     "text": [
      "Epoch 25: loss: 0.0817280113697052\n",
      "Epoch 25: binary_accuracy: 0.2893333435058594\n",
      "Epoch 25: val_loss: 0.10069206357002258\n",
      "Epoch 25: val_binary_accuracy: 0.2985999882221222\n"
     ]
    },
    {
     "name": "stderr",
     "output_type": "stream",
     "text": [
      " 32%|███▏      | 603/1875 [00:09<00:19, 66.70it/s]\n"
     ]
    },
    {
     "ename": "KeyboardInterrupt",
     "evalue": "",
     "output_type": "error",
     "traceback": [
      "\u001b[0;31m---------------------------------------------------------------------------\u001b[0m",
      "\u001b[0;31mKeyboardInterrupt\u001b[0m                         Traceback (most recent call last)",
      "\u001b[1;32m/home/arthur/studium/ann/repo/hw4/hw4.ipynb Cell 7\u001b[0m in \u001b[0;36m<cell line: 7>\u001b[0;34m()\u001b[0m\n\u001b[1;32m      <a href='vscode-notebook-cell:/home/arthur/studium/ann/repo/hw4/hw4.ipynb#W6sZmlsZQ%3D%3D?line=3'>4</a>\u001b[0m model1 \u001b[39m=\u001b[39m MNISTMath(\u001b[39m1\u001b[39m, optimizer)\n\u001b[1;32m      <a href='vscode-notebook-cell:/home/arthur/studium/ann/repo/hw4/hw4.ipynb#W6sZmlsZQ%3D%3D?line=4'>5</a>\u001b[0m model2 \u001b[39m=\u001b[39m MNISTMath(\u001b[39m2\u001b[39m, optimizer)\n\u001b[0;32m----> <a href='vscode-notebook-cell:/home/arthur/studium/ann/repo/hw4/hw4.ipynb#W6sZmlsZQ%3D%3D?line=6'>7</a>\u001b[0m train_model(model1, \u001b[39m1\u001b[39;49m)\n\u001b[1;32m      <a href='vscode-notebook-cell:/home/arthur/studium/ann/repo/hw4/hw4.ipynb#W6sZmlsZQ%3D%3D?line=7'>8</a>\u001b[0m train_model(model2, \u001b[39m2\u001b[39m)\n",
      "\u001b[1;32m/home/arthur/studium/ann/repo/hw4/hw4.ipynb Cell 7\u001b[0m in \u001b[0;36mtrain_model\u001b[0;34m(model, subtask)\u001b[0m\n\u001b[1;32m      <a href='vscode-notebook-cell:/home/arthur/studium/ann/repo/hw4/hw4.ipynb#W6sZmlsZQ%3D%3D?line=3'>4</a>\u001b[0m \u001b[39mfor\u001b[39;00m e \u001b[39min\u001b[39;00m \u001b[39mrange\u001b[39m(\u001b[39m40\u001b[39m):\n\u001b[1;32m      <a href='vscode-notebook-cell:/home/arthur/studium/ann/repo/hw4/hw4.ipynb#W6sZmlsZQ%3D%3D?line=4'>5</a>\u001b[0m     \u001b[39mfor\u001b[39;00m data \u001b[39min\u001b[39;00m tqdm\u001b[39m.\u001b[39mtqdm(train_ds):\n\u001b[0;32m----> <a href='vscode-notebook-cell:/home/arthur/studium/ann/repo/hw4/hw4.ipynb#W6sZmlsZQ%3D%3D?line=5'>6</a>\u001b[0m         metrics \u001b[39m=\u001b[39m model\u001b[39m.\u001b[39;49mtrain_step(data)\n\u001b[1;32m      <a href='vscode-notebook-cell:/home/arthur/studium/ann/repo/hw4/hw4.ipynb#W6sZmlsZQ%3D%3D?line=7'>8</a>\u001b[0m     \u001b[39mfor\u001b[39;00m name, value \u001b[39min\u001b[39;00m metrics\u001b[39m.\u001b[39mitems():\n\u001b[1;32m      <a href='vscode-notebook-cell:/home/arthur/studium/ann/repo/hw4/hw4.ipynb#W6sZmlsZQ%3D%3D?line=8'>9</a>\u001b[0m         \u001b[39mprint\u001b[39m(\u001b[39mf\u001b[39m\u001b[39m\"\u001b[39m\u001b[39mEpoch \u001b[39m\u001b[39m{\u001b[39;00me\u001b[39m}\u001b[39;00m\u001b[39m: \u001b[39m\u001b[39m{\u001b[39;00mname\u001b[39m}\u001b[39;00m\u001b[39m: \u001b[39m\u001b[39m{\u001b[39;00mvalue\u001b[39m}\u001b[39;00m\u001b[39m\"\u001b[39m)\n",
      "\u001b[1;32m/home/arthur/studium/ann/repo/hw4/hw4.ipynb Cell 7\u001b[0m in \u001b[0;36mMNISTMath.train_step\u001b[0;34m(self, data)\u001b[0m\n\u001b[1;32m     <a href='vscode-notebook-cell:/home/arthur/studium/ann/repo/hw4/hw4.ipynb#W6sZmlsZQ%3D%3D?line=51'>52</a>\u001b[0m img1, img2, label \u001b[39m=\u001b[39m data\n\u001b[1;32m     <a href='vscode-notebook-cell:/home/arthur/studium/ann/repo/hw4/hw4.ipynb#W6sZmlsZQ%3D%3D?line=53'>54</a>\u001b[0m \u001b[39mwith\u001b[39;00m tf\u001b[39m.\u001b[39mGradientTape() \u001b[39mas\u001b[39;00m tape:\n\u001b[0;32m---> <a href='vscode-notebook-cell:/home/arthur/studium/ann/repo/hw4/hw4.ipynb#W6sZmlsZQ%3D%3D?line=54'>55</a>\u001b[0m     output \u001b[39m=\u001b[39m \u001b[39mself\u001b[39;49m((img1, img2))\n\u001b[1;32m     <a href='vscode-notebook-cell:/home/arthur/studium/ann/repo/hw4/hw4.ipynb#W6sZmlsZQ%3D%3D?line=55'>56</a>\u001b[0m     loss \u001b[39m=\u001b[39m \u001b[39mself\u001b[39m\u001b[39m.\u001b[39mloss_function(label, output)\n\u001b[1;32m     <a href='vscode-notebook-cell:/home/arthur/studium/ann/repo/hw4/hw4.ipynb#W6sZmlsZQ%3D%3D?line=57'>58</a>\u001b[0m gradients \u001b[39m=\u001b[39m tape\u001b[39m.\u001b[39mgradient(loss, \u001b[39mself\u001b[39m\u001b[39m.\u001b[39mtrainable_variables)\n",
      "File \u001b[0;32m~/.local/lib/python3.10/site-packages/keras/utils/traceback_utils.py:65\u001b[0m, in \u001b[0;36mfilter_traceback.<locals>.error_handler\u001b[0;34m(*args, **kwargs)\u001b[0m\n\u001b[1;32m     63\u001b[0m filtered_tb \u001b[39m=\u001b[39m \u001b[39mNone\u001b[39;00m\n\u001b[1;32m     64\u001b[0m \u001b[39mtry\u001b[39;00m:\n\u001b[0;32m---> 65\u001b[0m     \u001b[39mreturn\u001b[39;00m fn(\u001b[39m*\u001b[39;49margs, \u001b[39m*\u001b[39;49m\u001b[39m*\u001b[39;49mkwargs)\n\u001b[1;32m     66\u001b[0m \u001b[39mexcept\u001b[39;00m \u001b[39mException\u001b[39;00m \u001b[39mas\u001b[39;00m e:\n\u001b[1;32m     67\u001b[0m     filtered_tb \u001b[39m=\u001b[39m _process_traceback_frames(e\u001b[39m.\u001b[39m__traceback__)\n",
      "File \u001b[0;32m~/.local/lib/python3.10/site-packages/keras/engine/training.py:557\u001b[0m, in \u001b[0;36mModel.__call__\u001b[0;34m(self, *args, **kwargs)\u001b[0m\n\u001b[1;32m    553\u001b[0m         \u001b[39msuper\u001b[39m()\u001b[39m.\u001b[39m\u001b[39m__call__\u001b[39m(inputs, \u001b[39m*\u001b[39mcopied_args, \u001b[39m*\u001b[39m\u001b[39m*\u001b[39mcopied_kwargs)\n\u001b[1;32m    555\u001b[0m     layout_map_lib\u001b[39m.\u001b[39m_map_subclass_model_variable(\u001b[39mself\u001b[39m, \u001b[39mself\u001b[39m\u001b[39m.\u001b[39m_layout_map)\n\u001b[0;32m--> 557\u001b[0m \u001b[39mreturn\u001b[39;00m \u001b[39msuper\u001b[39;49m()\u001b[39m.\u001b[39;49m\u001b[39m__call__\u001b[39;49m(\u001b[39m*\u001b[39;49margs, \u001b[39m*\u001b[39;49m\u001b[39m*\u001b[39;49mkwargs)\n",
      "File \u001b[0;32m~/.local/lib/python3.10/site-packages/keras/utils/traceback_utils.py:65\u001b[0m, in \u001b[0;36mfilter_traceback.<locals>.error_handler\u001b[0;34m(*args, **kwargs)\u001b[0m\n\u001b[1;32m     63\u001b[0m filtered_tb \u001b[39m=\u001b[39m \u001b[39mNone\u001b[39;00m\n\u001b[1;32m     64\u001b[0m \u001b[39mtry\u001b[39;00m:\n\u001b[0;32m---> 65\u001b[0m     \u001b[39mreturn\u001b[39;00m fn(\u001b[39m*\u001b[39;49margs, \u001b[39m*\u001b[39;49m\u001b[39m*\u001b[39;49mkwargs)\n\u001b[1;32m     66\u001b[0m \u001b[39mexcept\u001b[39;00m \u001b[39mException\u001b[39;00m \u001b[39mas\u001b[39;00m e:\n\u001b[1;32m     67\u001b[0m     filtered_tb \u001b[39m=\u001b[39m _process_traceback_frames(e\u001b[39m.\u001b[39m__traceback__)\n",
      "File \u001b[0;32m~/.local/lib/python3.10/site-packages/keras/engine/base_layer.py:1097\u001b[0m, in \u001b[0;36mLayer.__call__\u001b[0;34m(self, *args, **kwargs)\u001b[0m\n\u001b[1;32m   1092\u001b[0m     inputs \u001b[39m=\u001b[39m \u001b[39mself\u001b[39m\u001b[39m.\u001b[39m_maybe_cast_inputs(inputs, input_list)\n\u001b[1;32m   1094\u001b[0m \u001b[39mwith\u001b[39;00m autocast_variable\u001b[39m.\u001b[39menable_auto_cast_variables(\n\u001b[1;32m   1095\u001b[0m     \u001b[39mself\u001b[39m\u001b[39m.\u001b[39m_compute_dtype_object\n\u001b[1;32m   1096\u001b[0m ):\n\u001b[0;32m-> 1097\u001b[0m     outputs \u001b[39m=\u001b[39m call_fn(inputs, \u001b[39m*\u001b[39;49margs, \u001b[39m*\u001b[39;49m\u001b[39m*\u001b[39;49mkwargs)\n\u001b[1;32m   1099\u001b[0m \u001b[39mif\u001b[39;00m \u001b[39mself\u001b[39m\u001b[39m.\u001b[39m_activity_regularizer:\n\u001b[1;32m   1100\u001b[0m     \u001b[39mself\u001b[39m\u001b[39m.\u001b[39m_handle_activity_regularization(inputs, outputs)\n",
      "File \u001b[0;32m~/.local/lib/python3.10/site-packages/keras/utils/traceback_utils.py:96\u001b[0m, in \u001b[0;36minject_argument_info_in_traceback.<locals>.error_handler\u001b[0;34m(*args, **kwargs)\u001b[0m\n\u001b[1;32m     94\u001b[0m bound_signature \u001b[39m=\u001b[39m \u001b[39mNone\u001b[39;00m\n\u001b[1;32m     95\u001b[0m \u001b[39mtry\u001b[39;00m:\n\u001b[0;32m---> 96\u001b[0m     \u001b[39mreturn\u001b[39;00m fn(\u001b[39m*\u001b[39;49margs, \u001b[39m*\u001b[39;49m\u001b[39m*\u001b[39;49mkwargs)\n\u001b[1;32m     97\u001b[0m \u001b[39mexcept\u001b[39;00m \u001b[39mException\u001b[39;00m \u001b[39mas\u001b[39;00m e:\n\u001b[1;32m     98\u001b[0m     \u001b[39mif\u001b[39;00m \u001b[39mhasattr\u001b[39m(e, \u001b[39m\"\u001b[39m\u001b[39m_keras_call_info_injected\u001b[39m\u001b[39m\"\u001b[39m):\n\u001b[1;32m     99\u001b[0m         \u001b[39m# Only inject info for the innermost failing call\u001b[39;00m\n",
      "\u001b[1;32m/home/arthur/studium/ann/repo/hw4/hw4.ipynb Cell 7\u001b[0m in \u001b[0;36mMNISTMath.call\u001b[0;34m(self, images)\u001b[0m\n\u001b[1;32m     <a href='vscode-notebook-cell:/home/arthur/studium/ann/repo/hw4/hw4.ipynb#W6sZmlsZQ%3D%3D?line=29'>30</a>\u001b[0m img1_x \u001b[39m=\u001b[39m \u001b[39mself\u001b[39m\u001b[39m.\u001b[39mdense1(img1)\n\u001b[1;32m     <a href='vscode-notebook-cell:/home/arthur/studium/ann/repo/hw4/hw4.ipynb#W6sZmlsZQ%3D%3D?line=30'>31</a>\u001b[0m img1_x \u001b[39m=\u001b[39m \u001b[39mself\u001b[39m\u001b[39m.\u001b[39mdense2(img1_x)\n\u001b[0;32m---> <a href='vscode-notebook-cell:/home/arthur/studium/ann/repo/hw4/hw4.ipynb#W6sZmlsZQ%3D%3D?line=32'>33</a>\u001b[0m img2_x \u001b[39m=\u001b[39m \u001b[39mself\u001b[39;49m\u001b[39m.\u001b[39;49mdense1(img2)\n\u001b[1;32m     <a href='vscode-notebook-cell:/home/arthur/studium/ann/repo/hw4/hw4.ipynb#W6sZmlsZQ%3D%3D?line=33'>34</a>\u001b[0m img2_x \u001b[39m=\u001b[39m \u001b[39mself\u001b[39m\u001b[39m.\u001b[39mdense2(img2_x)\n\u001b[1;32m     <a href='vscode-notebook-cell:/home/arthur/studium/ann/repo/hw4/hw4.ipynb#W6sZmlsZQ%3D%3D?line=35'>36</a>\u001b[0m combined_x \u001b[39m=\u001b[39m tf\u001b[39m.\u001b[39mconcat([img1_x, img2_x], axis\u001b[39m=\u001b[39m\u001b[39m1\u001b[39m)\n",
      "File \u001b[0;32m~/.local/lib/python3.10/site-packages/keras/utils/traceback_utils.py:65\u001b[0m, in \u001b[0;36mfilter_traceback.<locals>.error_handler\u001b[0;34m(*args, **kwargs)\u001b[0m\n\u001b[1;32m     63\u001b[0m filtered_tb \u001b[39m=\u001b[39m \u001b[39mNone\u001b[39;00m\n\u001b[1;32m     64\u001b[0m \u001b[39mtry\u001b[39;00m:\n\u001b[0;32m---> 65\u001b[0m     \u001b[39mreturn\u001b[39;00m fn(\u001b[39m*\u001b[39;49margs, \u001b[39m*\u001b[39;49m\u001b[39m*\u001b[39;49mkwargs)\n\u001b[1;32m     66\u001b[0m \u001b[39mexcept\u001b[39;00m \u001b[39mException\u001b[39;00m \u001b[39mas\u001b[39;00m e:\n\u001b[1;32m     67\u001b[0m     filtered_tb \u001b[39m=\u001b[39m _process_traceback_frames(e\u001b[39m.\u001b[39m__traceback__)\n",
      "File \u001b[0;32m~/.local/lib/python3.10/site-packages/keras/engine/base_layer.py:1097\u001b[0m, in \u001b[0;36mLayer.__call__\u001b[0;34m(self, *args, **kwargs)\u001b[0m\n\u001b[1;32m   1092\u001b[0m     inputs \u001b[39m=\u001b[39m \u001b[39mself\u001b[39m\u001b[39m.\u001b[39m_maybe_cast_inputs(inputs, input_list)\n\u001b[1;32m   1094\u001b[0m \u001b[39mwith\u001b[39;00m autocast_variable\u001b[39m.\u001b[39menable_auto_cast_variables(\n\u001b[1;32m   1095\u001b[0m     \u001b[39mself\u001b[39m\u001b[39m.\u001b[39m_compute_dtype_object\n\u001b[1;32m   1096\u001b[0m ):\n\u001b[0;32m-> 1097\u001b[0m     outputs \u001b[39m=\u001b[39m call_fn(inputs, \u001b[39m*\u001b[39;49margs, \u001b[39m*\u001b[39;49m\u001b[39m*\u001b[39;49mkwargs)\n\u001b[1;32m   1099\u001b[0m \u001b[39mif\u001b[39;00m \u001b[39mself\u001b[39m\u001b[39m.\u001b[39m_activity_regularizer:\n\u001b[1;32m   1100\u001b[0m     \u001b[39mself\u001b[39m\u001b[39m.\u001b[39m_handle_activity_regularization(inputs, outputs)\n",
      "File \u001b[0;32m~/.local/lib/python3.10/site-packages/keras/utils/traceback_utils.py:96\u001b[0m, in \u001b[0;36minject_argument_info_in_traceback.<locals>.error_handler\u001b[0;34m(*args, **kwargs)\u001b[0m\n\u001b[1;32m     94\u001b[0m bound_signature \u001b[39m=\u001b[39m \u001b[39mNone\u001b[39;00m\n\u001b[1;32m     95\u001b[0m \u001b[39mtry\u001b[39;00m:\n\u001b[0;32m---> 96\u001b[0m     \u001b[39mreturn\u001b[39;00m fn(\u001b[39m*\u001b[39;49margs, \u001b[39m*\u001b[39;49m\u001b[39m*\u001b[39;49mkwargs)\n\u001b[1;32m     97\u001b[0m \u001b[39mexcept\u001b[39;00m \u001b[39mException\u001b[39;00m \u001b[39mas\u001b[39;00m e:\n\u001b[1;32m     98\u001b[0m     \u001b[39mif\u001b[39;00m \u001b[39mhasattr\u001b[39m(e, \u001b[39m\"\u001b[39m\u001b[39m_keras_call_info_injected\u001b[39m\u001b[39m\"\u001b[39m):\n\u001b[1;32m     99\u001b[0m         \u001b[39m# Only inject info for the innermost failing call\u001b[39;00m\n",
      "File \u001b[0;32m~/.local/lib/python3.10/site-packages/keras/layers/core/dense.py:241\u001b[0m, in \u001b[0;36mDense.call\u001b[0;34m(self, inputs)\u001b[0m\n\u001b[1;32m    237\u001b[0m         outputs \u001b[39m=\u001b[39m tf\u001b[39m.\u001b[39mnn\u001b[39m.\u001b[39membedding_lookup_sparse(\n\u001b[1;32m    238\u001b[0m             \u001b[39mself\u001b[39m\u001b[39m.\u001b[39mkernel, ids, weights, combiner\u001b[39m=\u001b[39m\u001b[39m\"\u001b[39m\u001b[39msum\u001b[39m\u001b[39m\"\u001b[39m\n\u001b[1;32m    239\u001b[0m         )\n\u001b[1;32m    240\u001b[0m     \u001b[39melse\u001b[39;00m:\n\u001b[0;32m--> 241\u001b[0m         outputs \u001b[39m=\u001b[39m tf\u001b[39m.\u001b[39;49mmatmul(a\u001b[39m=\u001b[39;49minputs, b\u001b[39m=\u001b[39;49m\u001b[39mself\u001b[39;49m\u001b[39m.\u001b[39;49mkernel)\n\u001b[1;32m    242\u001b[0m \u001b[39m# Broadcast kernel to inputs.\u001b[39;00m\n\u001b[1;32m    243\u001b[0m \u001b[39melse\u001b[39;00m:\n\u001b[1;32m    244\u001b[0m     outputs \u001b[39m=\u001b[39m tf\u001b[39m.\u001b[39mtensordot(inputs, \u001b[39mself\u001b[39m\u001b[39m.\u001b[39mkernel, [[rank \u001b[39m-\u001b[39m \u001b[39m1\u001b[39m], [\u001b[39m0\u001b[39m]])\n",
      "File \u001b[0;32m~/.local/lib/python3.10/site-packages/tensorflow/python/util/traceback_utils.py:150\u001b[0m, in \u001b[0;36mfilter_traceback.<locals>.error_handler\u001b[0;34m(*args, **kwargs)\u001b[0m\n\u001b[1;32m    148\u001b[0m filtered_tb \u001b[39m=\u001b[39m \u001b[39mNone\u001b[39;00m\n\u001b[1;32m    149\u001b[0m \u001b[39mtry\u001b[39;00m:\n\u001b[0;32m--> 150\u001b[0m   \u001b[39mreturn\u001b[39;00m fn(\u001b[39m*\u001b[39;49margs, \u001b[39m*\u001b[39;49m\u001b[39m*\u001b[39;49mkwargs)\n\u001b[1;32m    151\u001b[0m \u001b[39mexcept\u001b[39;00m \u001b[39mException\u001b[39;00m \u001b[39mas\u001b[39;00m e:\n\u001b[1;32m    152\u001b[0m   filtered_tb \u001b[39m=\u001b[39m _process_traceback_frames(e\u001b[39m.\u001b[39m__traceback__)\n",
      "File \u001b[0;32m~/.local/lib/python3.10/site-packages/tensorflow/python/util/dispatch.py:1176\u001b[0m, in \u001b[0;36madd_dispatch_support.<locals>.decorator.<locals>.op_dispatch_handler\u001b[0;34m(*args, **kwargs)\u001b[0m\n\u001b[1;32m   1174\u001b[0m \u001b[39m# Fallback dispatch system (dispatch v1):\u001b[39;00m\n\u001b[1;32m   1175\u001b[0m \u001b[39mtry\u001b[39;00m:\n\u001b[0;32m-> 1176\u001b[0m   \u001b[39mreturn\u001b[39;00m dispatch_target(\u001b[39m*\u001b[39;49margs, \u001b[39m*\u001b[39;49m\u001b[39m*\u001b[39;49mkwargs)\n\u001b[1;32m   1177\u001b[0m \u001b[39mexcept\u001b[39;00m (\u001b[39mTypeError\u001b[39;00m, \u001b[39mValueError\u001b[39;00m):\n\u001b[1;32m   1178\u001b[0m   \u001b[39m# Note: convert_to_eager_tensor currently raises a ValueError, not a\u001b[39;00m\n\u001b[1;32m   1179\u001b[0m   \u001b[39m# TypeError, when given unexpected types.  So we need to catch both.\u001b[39;00m\n\u001b[1;32m   1180\u001b[0m   result \u001b[39m=\u001b[39m dispatch(op_dispatch_handler, args, kwargs)\n",
      "File \u001b[0;32m~/.local/lib/python3.10/site-packages/tensorflow/python/ops/math_ops.py:3714\u001b[0m, in \u001b[0;36mmatmul\u001b[0;34m(a, b, transpose_a, transpose_b, adjoint_a, adjoint_b, a_is_sparse, b_is_sparse, output_type, name)\u001b[0m\n\u001b[1;32m   3711\u001b[0m   \u001b[39mreturn\u001b[39;00m gen_math_ops\u001b[39m.\u001b[39mbatch_mat_mul_v3(\n\u001b[1;32m   3712\u001b[0m       a, b, adj_x\u001b[39m=\u001b[39madjoint_a, adj_y\u001b[39m=\u001b[39madjoint_b, Tout\u001b[39m=\u001b[39moutput_type, name\u001b[39m=\u001b[39mname)\n\u001b[1;32m   3713\u001b[0m \u001b[39melse\u001b[39;00m:\n\u001b[0;32m-> 3714\u001b[0m   \u001b[39mreturn\u001b[39;00m gen_math_ops\u001b[39m.\u001b[39;49mmat_mul(\n\u001b[1;32m   3715\u001b[0m       a, b, transpose_a\u001b[39m=\u001b[39;49mtranspose_a, transpose_b\u001b[39m=\u001b[39;49mtranspose_b, name\u001b[39m=\u001b[39;49mname)\n",
      "File \u001b[0;32m~/.local/lib/python3.10/site-packages/tensorflow/python/ops/gen_math_ops.py:6013\u001b[0m, in \u001b[0;36mmat_mul\u001b[0;34m(a, b, transpose_a, transpose_b, name)\u001b[0m\n\u001b[1;32m   6011\u001b[0m \u001b[39mif\u001b[39;00m tld\u001b[39m.\u001b[39mis_eager:\n\u001b[1;32m   6012\u001b[0m   \u001b[39mtry\u001b[39;00m:\n\u001b[0;32m-> 6013\u001b[0m     _result \u001b[39m=\u001b[39m pywrap_tfe\u001b[39m.\u001b[39;49mTFE_Py_FastPathExecute(\n\u001b[1;32m   6014\u001b[0m       _ctx, \u001b[39m\"\u001b[39;49m\u001b[39mMatMul\u001b[39;49m\u001b[39m\"\u001b[39;49m, name, a, b, \u001b[39m\"\u001b[39;49m\u001b[39mtranspose_a\u001b[39;49m\u001b[39m\"\u001b[39;49m, transpose_a, \u001b[39m\"\u001b[39;49m\u001b[39mtranspose_b\u001b[39;49m\u001b[39m\"\u001b[39;49m,\n\u001b[1;32m   6015\u001b[0m       transpose_b)\n\u001b[1;32m   6016\u001b[0m     \u001b[39mreturn\u001b[39;00m _result\n\u001b[1;32m   6017\u001b[0m   \u001b[39mexcept\u001b[39;00m _core\u001b[39m.\u001b[39m_NotOkStatusException \u001b[39mas\u001b[39;00m e:\n",
      "\u001b[0;31mKeyboardInterrupt\u001b[0m: "
     ]
    }
   ],
   "source": [
    "optimizer = tf.keras.optimizers.Adam()\n",
    "# optimizer = tf.keras.optimizers.SGD()\n",
    "\n",
    "model1 = MNISTMath(1, optimizer)\n",
    "model2 = MNISTMath(2, optimizer)\n",
    "\n",
    "train_model(model1, 1)\n",
    "train_model(model2, 2)"
   ]
  }
 ],
 "metadata": {
  "kernelspec": {
   "display_name": "Python 3.10.6 64-bit",
   "language": "python",
   "name": "python3"
  },
  "language_info": {
   "codemirror_mode": {
    "name": "ipython",
    "version": 3
   },
   "file_extension": ".py",
   "mimetype": "text/x-python",
   "name": "python",
   "nbconvert_exporter": "python",
   "pygments_lexer": "ipython3",
   "version": "3.10.6"
  },
  "orig_nbformat": 4,
  "vscode": {
   "interpreter": {
    "hash": "916dbcbb3f70747c44a77c7bcd40155683ae19c65e1c03b4aa3499c5328201f1"
   }
  }
 },
 "nbformat": 4,
 "nbformat_minor": 2
}
