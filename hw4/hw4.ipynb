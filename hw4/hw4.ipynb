{
 "cells": [
  {
   "cell_type": "code",
   "execution_count": 2,
   "metadata": {},
   "outputs": [],
   "source": [
    "import tensorflow as tf\n",
    "import tensorflow_datasets as tfds"
   ]
  },
  {
   "cell_type": "code",
   "execution_count": 30,
   "metadata": {},
   "outputs": [],
   "source": [
    "def prepare_data(input_ds, subtask):\n",
    "    # First Step\n",
    "    # change datatype to float32\n",
    "    ds = input_ds.map(lambda img, target: (tf.cast(img, tf.float32), target))\n",
    "    # flatten images\n",
    "    ds = ds.map(lambda img, target: (tf.reshape(img, (-1,)), target))\n",
    "    # normalize image values\n",
    "    ds = ds.map(lambda img, target: ((img/128.)-1.0, target))\n",
    "\n",
    "    # Second Step\n",
    "    zipped_ds = tf.data.Dataset.zip((ds.shuffle(1000), ds.shuffle(1000)))\n",
    "    # a + b >= 5 ?\n",
    "    if subtask == 1:\n",
    "        zipped_ds = zipped_ds.map(lambda x1, x2:\n",
    "                                 (x1[0], x2[0], x1[1] + x2[1] >= 5))\n",
    "    # a - b = ?\n",
    "    elif subtask == 2:\n",
    "        zipped_ds = zipped_ds.map(lambda x1, x2:\n",
    "                                 (x1[0], x2[0], x1[1] - x2[1]))\n",
    "    else:\n",
    "        print(f\"{subtask} is not a valid subtask!\")\n",
    "        exit(-1)\n",
    "\n",
    "    # Third Step\n",
    "    # shuffle the data\n",
    "    zipped_ds = zipped_ds.shuffle(1000)\n",
    "    # create batches\n",
    "    zipped_ds = zipped_ds.batch(32)\n",
    "    # prefetch\n",
    "    zipped_ds = zipped_ds.prefetch(tf.data.AUTOTUNE)\n",
    "\n",
    "    return zipped_ds\n"
   ]
  },
  {
   "cell_type": "code",
   "execution_count": null,
   "metadata": {},
   "outputs": [],
   "source": [
    "def get_mnist_data(subtask):\n",
    "    train_dataset, test_dataset = tfds.load(\"mnist\", split=[\"train\", \"test\"],\n",
    "                                        as_supervised=True)\n",
    "\n",
    "    train_ds = prepare_data(train_dataset, subtask)\n",
    "    test_ds = prepare_data(test_dataset, subtask)\n",
    "\n",
    "    return (train_ds, test_ds)"
   ]
  },
  {
   "cell_type": "code",
   "execution_count": 31,
   "metadata": {},
   "outputs": [],
   "source": [
    "# load dataset\n",
    "train_dataset, test_dataset = tfds.load(\"mnist\", split=[\"train\", \"test\"],\n",
    "                                        as_supervised=True)\n",
    "\n",
    "# transform dataset\n",
    "# subtask 1\n",
    "train_ds_t1 = prepare_data(train_dataset, 1)\n",
    "test_ds_t1 = prepare_data(test_dataset, 1)\n",
    "\n",
    "# subtask 2\n",
    "train_ds_t2 = prepare_data(train_dataset, 2)\n",
    "test_ds_t2 = prepare_data(test_dataset, 2)\n",
    "\n"
   ]
  },
  {
   "cell_type": "code",
   "execution_count": 32,
   "metadata": {},
   "outputs": [],
   "source": [
    "class MNISTMath(tf.keras.Model):\n",
    "    def __init__(self, subtask, optimizer):\n",
    "        super().__init__()\n",
    "\n",
    "        self.optimizer = optimizer\n",
    "\n",
    "        self.dense1 = tf.keras.layers.Dense(32, activation=\"relu\")\n",
    "        self.dense2 = tf.keras.layers.Dense(32, activation=\"relu\")\n",
    "\n",
    "        # a + b >= 5 ?\n",
    "        if subtask == 1:\n",
    "            self.metrics_list = [tf.keras.metrics.BinaryAccuracy()]\n",
    "            self.loss_function = tf.keras.losses.BinaryCrossentropy()\n",
    "            self.out_layer = tf.keras.layers.Dense(1, activation=tf.nn.sigmoid)\n",
    "        # a + b = ?\n",
    "        elif subtask == 2:\n",
    "            self.metrics_list = [tf.keras.metrics.MeanSquaredError()]\n",
    "            self.loss_function = tf.keras.losses.MeanSquaredError()\n",
    "            self.out_layer = tf.keras.layers.Dense(1, activation=None)\n",
    "        else:\n",
    "            print(f\"{subtask} is not a valid subtask!\")\n",
    "            exit(-1)\n",
    "\n",
    "\n",
    "\n",
    "    def call(self, images):\n",
    "        img1, img2 = images\n",
    "\n",
    "        img1_x = self.dense1(img1)\n",
    "        img1_x = self.dense2(img1_x)\n",
    "\n",
    "        img2_x = self.dense1(img2)\n",
    "        img2_x = self.dense2(img2_x)\n",
    "\n",
    "        combined_x = tf.concat([img1_x, img2_x], axis=1)\n",
    "\n",
    "        return self.outer_layer(combined_x)\n",
    "\n",
    "    \n",
    "    @property\n",
    "    def metrics(self):\n",
    "        return self.metrics_list\n",
    "\n",
    "    \n",
    "    def reset_metrics(self):\n",
    "        for metric in self.metrics:\n",
    "            metric.reset_states()\n",
    "\n",
    "    \n",
    "    def train_step(self, data):\n",
    "        img1, img2, label = data\n",
    "\n",
    "        with tf.GradientTape() as tape:\n",
    "            output = self((img1, img2))\n",
    "            loss = self.loss_function(label, output)\n",
    "        \n",
    "        gradients = tape.gradient(loss, self.trainable_variables)\n",
    "        self.optimizer.apply_gradients(zip(gradients, \n",
    "                                           self.trainable_variables))\n",
    "        self.metrics[0].update_state(loss)\n",
    "\n",
    "        return {m.name: m.result() for m in self.metrics}\n",
    "\n",
    "    \n",
    "    def test_step(self, data):\n",
    "        img1, img2, label = data\n",
    "        output = self((img1, img2))\n",
    "        loss = self.loss_function(output, label)\n",
    "\n",
    "        self.metrics[0].update_state(loss)\n",
    "\n",
    "        return {m.name: m.result() for m in self.metrics}"
   ]
  },
  {
   "cell_type": "code",
   "execution_count": null,
   "metadata": {},
   "outputs": [],
   "source": [
    "def train_model(subtask, optimizer):\n",
    "    model = MNISTMath(subtask, optimizer)\n",
    "    train_ds, test_ds = get_mnist_data(subtask)\n"
   ]
  }
 ],
 "metadata": {
  "kernelspec": {
   "display_name": "Python 3.10.6 64-bit",
   "language": "python",
   "name": "python3"
  },
  "language_info": {
   "codemirror_mode": {
    "name": "ipython",
    "version": 3
   },
   "file_extension": ".py",
   "mimetype": "text/x-python",
   "name": "python",
   "nbconvert_exporter": "python",
   "pygments_lexer": "ipython3",
   "version": "3.10.6"
  },
  "orig_nbformat": 4,
  "vscode": {
   "interpreter": {
    "hash": "916dbcbb3f70747c44a77c7bcd40155683ae19c65e1c03b4aa3499c5328201f1"
   }
  }
 },
 "nbformat": 4,
 "nbformat_minor": 2
}
