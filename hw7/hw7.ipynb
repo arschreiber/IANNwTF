{
 "cells": [
  {
   "cell_type": "code",
   "execution_count": 375,
   "metadata": {},
   "outputs": [],
   "source": [
    "import os\n",
    "os.environ['TF_CPP_MIN_LOG_LEVEL'] = '3'  # FATAL"
   ]
  },
  {
   "cell_type": "code",
   "execution_count": 376,
   "metadata": {},
   "outputs": [],
   "source": [
    "import tensorflow as tf\n",
    "import tensorflow_datasets as tfds\n",
    "import matplotlib.pyplot as plt\n",
    "import tqdm"
   ]
  },
  {
   "cell_type": "code",
   "execution_count": 377,
   "metadata": {},
   "outputs": [],
   "source": [
    "sequencelength = 10"
   ]
  },
  {
   "cell_type": "code",
   "execution_count": 378,
   "metadata": {},
   "outputs": [],
   "source": [
    "# this functions creates the dataset with the targets, given that the whole series is read\n",
    "# i am not sure whether this is the right way for the training\n",
    "def prepare_dataset(input_ds):\n",
    "    targets = [label.numpy() for img, label in input_ds]\n",
    "    target_digits = tf.convert_to_tensor(targets, dtype=tf.int32)\n",
    "\n",
    "\n",
    "\n",
    "    #range_vals is only used to create the change between positive and negative signs for the summation\n",
    "    range_vals = tf.range(len(targets))\n",
    "    #this creates the alternating positve and negative signes by checkign whether the entry index modulo 2 is zero \n",
    "    #(i.e. even entries are positive, uneven ones negative)\n",
    "    #check the tf.where documentation if the usage is confusing for you!\n",
    "    alternating_target_numbers = tf.where(tf.math.floormod(range_vals,2)==0, target_digits, -target_digits)\n",
    "    #finally we can compute the cumulative sums!\n",
    "    c_sum = tf.math.cumsum(alternating_target_numbers)\n",
    "    \n",
    "    new_targets = tf.data.Dataset.from_tensor_slices(c_sum)\n",
    "\n",
    "    # create sequences in batches\n",
    "    new_targets = new_targets.batch(sequencelength, drop_remainder=True)\n",
    "    input_ds = input_ds.batch(sequencelength, drop_remainder=True)\n",
    "    \n",
    "    \n",
    "    ds = tf.data.Dataset.zip((input_ds, new_targets))\n",
    "    \n",
    "    \n",
    "\n",
    "    # cast datatype to float\n",
    "    ds = ds.map(lambda img, target: (tf.cast(img[0], tf.float32), target))\n",
    "\n",
    "    # normalize values\n",
    "    ds = ds.map(lambda img, target: (img/128. - 1., target))\n",
    "    \n",
    "\n",
    "\n",
    "    ds = ds.shuffle(1000) \n",
    "    ds = ds.batch(32)\n",
    "    ds = ds.prefetch(tf.data.AUTOTUNE)\n",
    "\n",
    "    return ds"
   ]
  },
  {
   "cell_type": "code",
   "execution_count": 379,
   "metadata": {},
   "outputs": [],
   "source": [
    "(train_dataset, test_dataset), ds_info = tfds.load(\n",
    "    \"mnist\", split=[\"train\", \"test\"], as_supervised=True, with_info=True\n",
    ")\n",
    "\n",
    "train_ds = prepare_dataset(train_dataset)\n",
    "test_ds = prepare_dataset(test_dataset)"
   ]
  },
  {
   "cell_type": "code",
   "execution_count": 380,
   "metadata": {},
   "outputs": [
    {
     "name": "stdout",
     "output_type": "stream",
     "text": [
      "(32, 10, 28, 28, 1)\n",
      "tf.Tensor(\n",
      "[[ -64  -70  -62  -63  -60  -67  -65  -74  -69  -69]\n",
      " [-268 -273 -270 -276 -268 -269 -267 -272 -264 -265]\n",
      " [-374 -383 -381 -387 -382 -387 -381 -385 -383 -389]\n",
      " [-128 -130 -125 -126 -126 -128 -126 -126 -125 -129]\n",
      " [-189 -191 -190 -197 -197 -200 -195 -202 -196 -199]\n",
      " [ -31  -40  -34  -39  -33  -35  -27  -32  -26  -27]\n",
      " [-269 -269 -265 -273 -273 -282 -279 -279 -276 -285]\n",
      " [-217 -221 -219 -227 -226 -230 -227 -236 -236 -237]\n",
      " [ -69  -72  -70  -75  -68  -76  -68  -71  -68  -69]\n",
      " [-218 -221 -220 -223 -216 -217 -209 -214 -205 -208]\n",
      " [-293 -300 -293 -297 -295 -302 -299 -301 -292 -299]\n",
      " [-171 -180 -177 -180 -177 -185 -184 -187 -183 -185]\n",
      " [-207 -211 -208 -215 -211 -211 -202 -202 -200 -203]\n",
      " [-201 -206 -197 -197 -197 -201 -196 -205 -198 -204]\n",
      " [  -7  -14  -13  -16   -9  -12   -9  -14  -11  -16]\n",
      " [-146 -150 -145 -149 -143 -145 -141 -148 -142 -150]\n",
      " [ -57  -63  -60  -66  -63  -67  -63  -67  -65  -66]\n",
      " [-285 -291 -291 -299 -293 -297 -288 -295 -288 -292]\n",
      " [-327 -331 -322 -329 -324 -325 -324 -326 -317 -324]\n",
      " [  -5   -5   -3   -4    5   -4   -2   -2    1   -7]\n",
      " [-268 -270 -265 -267 -266 -273 -264 -271 -270 -279]\n",
      " [-141 -148 -142 -151 -150 -156 -153 -159 -156 -162]\n",
      " [-320 -322 -322 -328 -321 -324 -317 -323 -317 -318]\n",
      " [-238 -242 -239 -239 -239 -248 -242 -242 -241 -248]\n",
      " [ -10  -19  -11  -12   -7  -15   -9  -16  -11  -12]\n",
      " [-267 -270 -264 -265 -262 -270 -263 -268 -268 -272]\n",
      " [ -98 -106 -105 -113 -104 -105 -102 -110 -101 -101]\n",
      " [-238 -244 -237 -242 -239 -241 -232 -240 -231 -234]\n",
      " [-285 -289 -281 -282 -278 -278 -270 -277 -276 -280]\n",
      " [-241 -246 -245 -254 -247 -248 -244 -249 -243 -248]\n",
      " [  -4   -7   -7  -11   -9  -11   -8  -15  -11  -13]\n",
      " [-269 -272 -265 -267 -265 -269 -264 -269 -263 -263]], shape=(32, 10), dtype=int32)\n"
     ]
    }
   ],
   "source": [
    "for img, label in train_ds.take(1):\n",
    "    print(img.shape)\n",
    "    print(label)\n",
    "\n",
    "#32 batch size 10 sequence length 28*28*1 image dimension"
   ]
  },
  {
   "cell_type": "code",
   "execution_count": 381,
   "metadata": {},
   "outputs": [],
   "source": [
    "#2.3 lstm structure\n",
    "class customLSTM(tf.keras.layers.AbstractRNNCell):\n",
    "\n",
    "    def __init__(self, units, **kwargs):\n",
    "      self.units = units\n",
    "      super(customLSTM, self).__init__(**kwargs)\n",
    "\n",
    "    @property\n",
    "    def state_size(self):\n",
    "      return [self.units, self.units]\n",
    "\n",
    "    def output_size(self):\n",
    "      return self.units    \n",
    "\n",
    "    def get_initial_state(self, inputs=None, batch_size=None, dtype=None):\n",
    "        return list(\n",
    "            rnn_utils.generate_zero_filled_state_for_cell(\n",
    "                self, inputs, batch_size, dtype\n",
    "            )\n",
    "        )\n",
    "    \n",
    "    def call(self, inputs, states):\n",
    "        z = backend.dot(inputs, self.kernel)\n",
    "        z += backend.dot(h_tm1, self.recurrent_kernel)\n",
    "        \n",
    "        z = tf.split(z, num_or_size_splits=4, axis=1)\n",
    "        c, o = self._compute_carry_and_output_fused(z, c_tm1)\n",
    "        output = o * self.activation(c)\n",
    "        return output, output"
   ]
  },
  {
   "cell_type": "code",
   "execution_count": 382,
   "metadata": {},
   "outputs": [],
   "source": [
    "#debug\n",
    "class debugLSTM(tf.keras.layers.LSTM):\n",
    "    @property\n",
    "    def state_size(self):\n",
    "      return [self.units, self.units]\n",
    "\n",
    "\n",
    "\n",
    "from tensorflow import keras\n",
    "from keras.layers import RNN\n",
    "from keras import backend\n",
    "\n",
    "# First, let's define a RNN Cell, as a layer subclass.\n",
    "class MinimalRNNCell(keras.layers.Layer):\n",
    "\n",
    "    def __init__(self, units, **kwargs):\n",
    "        self.units = units\n",
    "        self.state_size = units\n",
    "        super(MinimalRNNCell, self).__init__(**kwargs)\n",
    "\n",
    "    def build(self, input_shape):\n",
    "        self.kernel = self.add_weight(shape=(input_shape[-1], self.units),\n",
    "                                      initializer='uniform',\n",
    "                                      name='kernel')\n",
    "        self.recurrent_kernel = self.add_weight(\n",
    "            shape=(self.units, self.units),\n",
    "            initializer='uniform',\n",
    "            name='recurrent_kernel')\n",
    "        self.built = True\n",
    "\n",
    "    def call(self, inputs, states):\n",
    "        prev_output = states[0]\n",
    "        h = backend.dot(inputs, self.kernel)\n",
    "        output = h + backend.dot(prev_output, self.recurrent_kernel)\n",
    "        return output, [output]\n"
   ]
  },
  {
   "cell_type": "code",
   "execution_count": 390,
   "metadata": {},
   "outputs": [],
   "source": [
    "#2.2 create cnn structure (inspired by lenet)\n",
    "#2.4 wrap LSTM-Cell\n",
    "class Network(tf.keras.Model):\n",
    "    def __init__(self, optimizer):\n",
    "        # initialize superclass\n",
    "        super().__init__()\n",
    "        self.optimizer = optimizer\n",
    "\n",
    "        self.metrics_list = [\n",
    "            tf.keras.metrics.Mean(name=\"loss\"),\n",
    "            tf.keras.metrics.CategoricalAccuracy()\n",
    "        ]\n",
    "\n",
    "        self.loss_function = tf.keras.losses.BinaryCrossentropy()\n",
    "\n",
    "        # declare layers\n",
    "        \n",
    "        input_shape = (32, sequencelength, 28, 28, 1)\n",
    "\n",
    "        self.conv1 = tf.keras.layers.Conv2D(filters = 6,input_shape=input_shape[2:],\n",
    "                                            kernel_size = 5, padding=\"same\", activation=\"sigmoid\")\n",
    "        \n",
    "\n",
    "        input_shape = (32, sequencelength, 14, 14, 6)\n",
    "\n",
    "        self.conv2 = tf.keras.layers.Conv2D(filters = 16,input_shape=input_shape[2:],\n",
    "                                            kernel_size = 5 , padding=\"valid\", activation=\"sigmoid\")\n",
    "        \n",
    "        input_shape = (32, sequencelength, 6, 6, 16)\n",
    "\n",
    "        self.conv3 = tf.keras.layers.Conv2D(filters = 16,input_shape=input_shape[2:],\n",
    "                                            kernel_size = 6 , padding=\"same\", activation=\"sigmoid\")\n",
    "        \n",
    "        self.conv4 = tf.keras.layers.Conv2D(filters = 1,input_shape=input_shape[2:],\n",
    "                                            kernel_size = (4,1) , padding=\"valid\", activation=\"softmax\")\n",
    "        self.avgpooling = tf.keras.layers.AveragePooling2D(pool_size=(2, 2), strides=(2, 2))\n",
    "        \n",
    "        self.global_pool = tf.keras.layers.GlobalAveragePooling2D()\n",
    "\n",
    "        self.out = tf.keras.layers.Dense(1, activation=\"softmax\")\n",
    "        \n",
    "        instanceCell = customLSTM(32)\n",
    "        #debug\n",
    "        #instanceCell = debugLSTM(32)\n",
    "\n",
    "        #instanceCell = MinimalRNNCell(32)\n",
    "        \n",
    "        \n",
    "        self.RNNlayer =  tf.keras.layers.RNN(instanceCell,return_sequences=True)\n",
    "        \n",
    "\n",
    "        self.LSTM1 = customLSTM(32)\n",
    "        \n",
    "\n",
    "    @tf.function\n",
    "    def call(self, x):\n",
    "        #preprocess with cnn\n",
    "        \n",
    "        x = self.conv1(x)\n",
    "        x = tf.keras.layers.TimeDistributed(self.avgpooling)(x)\n",
    "        x = self.conv2(x)\n",
    "        x = tf.keras.layers.TimeDistributed(self.avgpooling)(x)\n",
    "        x = self.conv3(x)\n",
    "        x = self.conv3(x)\n",
    "        #x = self.conv4(x)\n",
    "       \n",
    "        #calculate with RNN\n",
    "        \n",
    "        #RNN call doesn't work\n",
    "        #likley the input is in the wrong shape\n",
    "    \n",
    "        #x = self.RNNlayer(x)\n",
    "        #x = self.RNNlayer(x)\n",
    "        \n",
    "        \n",
    "        \n",
    "        #getting into output shape\n",
    "        #the output is for each element of a time sequence a specific number\n",
    "        x = tf.keras.layers.TimeDistributed(self.global_pool)(x)\n",
    "        x = self.out(x)\n",
    "        \n",
    "        #clean output shape\n",
    "        x = tf.squeeze(x)\n",
    "        \n",
    "        \n",
    "        return x\n",
    "    \n",
    " "
   ]
  },
  {
   "cell_type": "code",
   "execution_count": 391,
   "metadata": {},
   "outputs": [
    {
     "name": "stdout",
     "output_type": "stream",
     "text": [
      "(32, 10)\n"
     ]
    }
   ],
   "source": [
    "optimizer = tf.keras.optimizers.Adam()\n",
    "model = Network(optimizer)\n",
    "for img, label in train_ds.take(1):\n",
    "    print(model.call(img).shape)\n",
    "    \n",
    "#32 batches and 10 eleements per time sequence(can be increased at the top)"
   ]
  },
  {
   "cell_type": "code",
   "execution_count": 394,
   "metadata": {},
   "outputs": [],
   "source": [
    "model.compile(\n",
    "optimizer=tf.keras.optimizers.Adam(learning_rate=0.1),\n",
    "              loss=tf.keras.losses.MeanSquaredError(),\n",
    "              metrics=[tf.keras.metrics.BinaryAccuracy(),\n",
    "                       tf.keras.metrics.FalseNegatives()])"
   ]
  },
  {
   "cell_type": "code",
   "execution_count": 396,
   "metadata": {},
   "outputs": [
    {
     "name": "stdout",
     "output_type": "stream",
     "text": [
      "Epoch 1/10\n",
      "188/188 [==============================] - 7s 35ms/step - loss: 0.0000e+00 - binary_accuracy: 0.0023 - false_negatives_4: 0.0000e+00 - categorical_accuracy: 0.0000e+00\n",
      "Epoch 2/10\n",
      "188/188 [==============================] - 7s 35ms/step - loss: 0.0000e+00 - binary_accuracy: 0.0023 - false_negatives_4: 0.0000e+00 - categorical_accuracy: 0.0000e+00\n",
      "Epoch 3/10\n",
      "188/188 [==============================] - 7s 35ms/step - loss: 0.0000e+00 - binary_accuracy: 0.0023 - false_negatives_4: 0.0000e+00 - categorical_accuracy: 0.0000e+00\n",
      "Epoch 4/10\n",
      "188/188 [==============================] - 7s 35ms/step - loss: 0.0000e+00 - binary_accuracy: 0.0023 - false_negatives_4: 0.0000e+00 - categorical_accuracy: 0.0000e+00\n",
      "Epoch 5/10\n",
      "188/188 [==============================] - 7s 35ms/step - loss: 0.0000e+00 - binary_accuracy: 0.0023 - false_negatives_4: 0.0000e+00 - categorical_accuracy: 0.0000e+00\n",
      "Epoch 6/10\n",
      "188/188 [==============================] - 7s 36ms/step - loss: 0.0000e+00 - binary_accuracy: 0.0023 - false_negatives_4: 0.0000e+00 - categorical_accuracy: 0.0000e+00\n",
      "Epoch 7/10\n",
      "188/188 [==============================] - 7s 36ms/step - loss: 0.0000e+00 - binary_accuracy: 0.0023 - false_negatives_4: 0.0000e+00 - categorical_accuracy: 0.0000e+00\n",
      "Epoch 8/10\n",
      "188/188 [==============================] - 7s 36ms/step - loss: 0.0000e+00 - binary_accuracy: 0.0023 - false_negatives_4: 0.0000e+00 - categorical_accuracy: 0.0000e+00\n",
      "Epoch 9/10\n",
      "188/188 [==============================] - 7s 36ms/step - loss: 0.0000e+00 - binary_accuracy: 0.0023 - false_negatives_4: 0.0000e+00 - categorical_accuracy: 0.0000e+00\n",
      "Epoch 10/10\n",
      "188/188 [==============================] - 7s 36ms/step - loss: 0.0000e+00 - binary_accuracy: 0.0023 - false_negatives_4: 0.0000e+00 - categorical_accuracy: 0.0000e+00\n"
     ]
    }
   ],
   "source": [
    "\n",
    "#for img, label in train_ds:\n",
    "\n",
    "history = model.fit(train_ds, batch_size = 32, epochs = 10)\n",
    "    \n",
    "#without the RNN the output is always pointless"
   ]
  },
  {
   "cell_type": "code",
   "execution_count": 387,
   "metadata": {},
   "outputs": [
    {
     "name": "stdout",
     "output_type": "stream",
     "text": [
      "dict_keys(['loss', 'binary_accuracy', 'false_negatives_3', 'categorical_accuracy'])\n"
     ]
    },
    {
     "data": {
      "image/png": "[encoded data removed]",
      "text/plain": [
       "<Figure size 640x480 with 1 Axes>"
      ]
     },
     "metadata": {},
     "output_type": "display_data"
    },
    {
     "data": {
      "image/png": "[encoded data removed]",
      "text/plain": [
       "<Figure size 640x480 with 1 Axes>"
      ]
     },
     "metadata": {},
     "output_type": "display_data"
    }
   ],
   "source": [
    "print(history.history.keys())\n",
    "# summarize history for accuracy\n",
    "plt.plot(history.history['binary_accuracy'])\n",
    "\n",
    "plt.title('model accuracy')\n",
    "plt.ylabel('accuracy')\n",
    "plt.xlabel('epoch')\n",
    "plt.legend(['train'], loc='upper left')\n",
    "plt.show()\n",
    "# summarize history for loss\n",
    "plt.plot(history.history['loss'])\n",
    "plt.title('model loss')\n",
    "plt.ylabel('loss')\n",
    "plt.xlabel('epoch')\n",
    "plt.legend(['train'], loc='upper left')\n",
    "plt.show()"
   ]
  },
  {
   "cell_type": "code",
   "execution_count": null,
   "metadata": {},
   "outputs": [],
   "source": []
  },
  {
   "cell_type": "code",
   "execution_count": null,
   "metadata": {},
   "outputs": [],
   "source": []
  },
  {
   "cell_type": "code",
   "execution_count": null,
   "metadata": {},
   "outputs": [],
   "source": []
  }
 ],
 "metadata": {
  "kernelspec": {
   "display_name": "Python 3 (ipykernel)",
   "language": "python",
   "name": "python3"
  },
  "language_info": {
   "codemirror_mode": {
    "name": "ipython",
    "version": 3
   },
   "file_extension": ".py",
   "mimetype": "text/x-python",
   "name": "python",
   "nbconvert_exporter": "python",
   "pygments_lexer": "ipython3",
   "version": "3.7.4"
  },
  "vscode": {
   "interpreter": {
    "hash": "916dbcbb3f70747c44a77c7bcd40155683ae19c65e1c03b4aa3499c5328201f1"
   }
  }
 },
 "nbformat": 4,
 "nbformat_minor": 2
}
