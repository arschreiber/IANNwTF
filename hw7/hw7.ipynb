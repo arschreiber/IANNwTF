{
 "cells": [
  {
   "cell_type": "code",
   "execution_count": 21,
   "metadata": {},
   "outputs": [],
   "source": [
    "import os\n",
    "os.environ['TF_CPP_MIN_LOG_LEVEL'] = '3'  # FATAL"
   ]
  },
  {
   "cell_type": "code",
   "execution_count": 22,
   "metadata": {},
   "outputs": [],
   "source": [
    "import tensorflow as tf\n",
    "import tensorflow_datasets as tfds\n",
    "import matplotlib.pyplot as plt\n",
    "import tqdm"
   ]
  },
  {
   "cell_type": "code",
   "execution_count": 54,
   "metadata": {},
   "outputs": [],
   "source": [
    "# this functions creates the dataset with the targets, given that the whole series is read\n",
    "# i am not sure whether this is the right way for the training\n",
    "def prepare_dataset(input_ds):\n",
    "    targets = [label.numpy() for img, label in input_ds]\n",
    "    target_digits = tf.convert_to_tensor(targets, dtype=tf.int32)\n",
    "\n",
    "\n",
    "\n",
    "    #range_vals is only used to create the change between positive and negative signs for the summation\n",
    "    range_vals = tf.range(len(targets))\n",
    "    #this creates the alternating positve and negative signes by checkign whether the entry index modulo 2 is zero (i.e. even entries are positive, uneven ones negative)\n",
    "    #check the tf.where documentation if the usage is confusing for you!\n",
    "    alternating_target_numbers = tf.where(tf.math.floormod(range_vals,2)==0, target_digits, -target_digits)\n",
    "    #finally we can compute the cumulative sums!\n",
    "    c_sum = tf.math.cumsum(alternating_target_numbers)\n",
    "    new_targets = tf.data.Dataset.from_tensor_slices(c_sum)\n",
    "\n",
    "    ds = tf.data.Dataset.zip((input_ds, new_targets))\n",
    "\n",
    "    # cast datatype to float\n",
    "    ds = ds.map(lambda img, target: (tf.cast(img[0], tf.float32), target))\n",
    "\n",
    "    # normalize values\n",
    "    ds = ds.map(lambda img, target: (img/128. - 1., target))\n",
    "\n",
    "    ds = ds.shuffle(1000) \n",
    "    ds = ds.batch(32)\n",
    "    ds = ds.prefetch(tf.data.AUTOTUNE)\n",
    "\n",
    "    return ds"
   ]
  },
  {
   "cell_type": "code",
   "execution_count": 55,
   "metadata": {},
   "outputs": [
    {
     "name": "stdout",
     "output_type": "stream",
     "text": [
      "tf.Tensor([  4   3   3 ... -70 -69 -74], shape=(60000,), dtype=int32)\n",
      "tf.Tensor([  2   2   6 ... 327 327 322], shape=(10000,), dtype=int32)\n"
     ]
    }
   ],
   "source": [
    "(train_dataset, test_dataset), ds_info = tfds.load(\n",
    "    \"mnist\", split=[\"train\", \"test\"], as_supervised=True, with_info=True\n",
    ")\n",
    "\n",
    "train_ds = prepare_dataset(train_dataset)\n",
    "test_ds = prepare_dataset(test_dataset)"
   ]
  },
  {
   "cell_type": "code",
   "execution_count": 56,
   "metadata": {},
   "outputs": [
    {
     "name": "stdout",
     "output_type": "stream",
     "text": [
      "(32, 28, 28, 1)\n",
      "tf.Tensor(\n",
      "[ -40   19  -46 -133    4  -64  -17  -99    4   22   -5 -125  -57  -79\n",
      "  -10   25   16 -108  -62 -105    6  -73  -55  -65 -124  -77   -4  -67\n",
      "    3  -97  -17  -65], shape=(32,), dtype=int32)\n",
      "(32, 28, 28, 1)\n",
      "tf.Tensor(\n",
      "[ -63  -52  -84  -16  -91   15  -60  -34  -78  -72    7  -65  -80    0\n",
      "   -9  -78 -104  -40 -112  -40  -55 -118  -25  -55   -4  -75  -89  -13\n",
      "  -41    0 -120  -60], shape=(32,), dtype=int32)\n",
      "(32, 28, 28, 1)\n",
      "tf.Tensor(\n",
      "[   4   -8   17  -67  -12  -70  -75 -111  -63 -118  -35  -28    1  -83\n",
      "  -67    5  -89   25  -62   18  -72  -61  -60  -63  -89  -92  -43  -32\n",
      "   27  -82  -71  -62], shape=(32,), dtype=int32)\n"
     ]
    }
   ],
   "source": [
    "for img, label in train_ds.take(3):\n",
    "    print(img.shape)\n",
    "    print(label)"
   ]
  }
 ],
 "metadata": {
  "kernelspec": {
   "display_name": "Python 3",
   "language": "python",
   "name": "python3"
  },
  "language_info": {
   "codemirror_mode": {
    "name": "ipython",
    "version": 3
   },
   "file_extension": ".py",
   "mimetype": "text/x-python",
   "name": "python",
   "nbconvert_exporter": "python",
   "pygments_lexer": "ipython3",
   "version": "3.10.6"
  },
  "orig_nbformat": 4,
  "vscode": {
   "interpreter": {
    "hash": "916dbcbb3f70747c44a77c7bcd40155683ae19c65e1c03b4aa3499c5328201f1"
   }
  }
 },
 "nbformat": 4,
 "nbformat_minor": 2
}
