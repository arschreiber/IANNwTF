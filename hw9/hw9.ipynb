{
  "cells": [
    {
      "cell_type": "code",
      "execution_count": 1,
      "metadata": {
        "id": "kpdZN3HJpxR2"
      },
      "outputs": [],
      "source": [
        "import os\n",
        "os.environ['TF_CPP_MIN_LOG_LEVEL'] = '3'  # FATAL"
      ]
    },
    {
      "cell_type": "code",
      "execution_count": 2,
      "metadata": {
        "id": "H6VO-Z9RpxR5"
      },
      "outputs": [],
      "source": [
        "import os\n",
        "import glob\n",
        "import imageio\n",
        "import matplotlib.pyplot as plt\n",
        "import numpy as np\n",
        "import PIL\n",
        "from tensorflow.keras import layers\n",
        "import time\n",
        "import tensorflow as tf\n",
        "\n",
        "from IPython import display"
      ]
    },
    {
      "cell_type": "code",
      "execution_count": 3,
      "metadata": {
        "colab": {
          "base_uri": "https://localhost:8080/"
        },
        "id": "7DNig0AppxR6",
        "outputId": "425ac818-7370-4aa9-c1f9-d23dc0f4e34f"
      },
      "outputs": [
        {
          "output_type": "stream",
          "name": "stdout",
          "text": [
            "[b'aircraft carrier', b'airplane', b'alarm clock', b'ambulance', b'angel', b'animal migration', b'ant', b'anvil', b'apple', b'arm']\n"
          ]
        }
      ],
      "source": [
        "import urllib\n",
        "categories = [line.rstrip(b'\\n') for line in urllib.request.urlopen('https://raw.githubusercontent.com/googlecreativelab/quickdraw-dataset/master/categories.txt')]\n",
        "print(categories[:10])\n",
        "category = 'candle'"
      ]
    },
    {
      "cell_type": "code",
      "execution_count": 4,
      "metadata": {
        "colab": {
          "base_uri": "https://localhost:8080/"
        },
        "id": "y0-MlZPYpxR7",
        "outputId": "5725ea0e-c2e1-458c-a750-3fdb34d33c1d"
      },
      "outputs": [
        {
          "output_type": "stream",
          "name": "stdout",
          "text": [
            "141545 images to train on\n"
          ]
        }
      ],
      "source": [
        "# Creates a folder to download the original drawings into.\n",
        "# We chose to use the numpy format : 1x784 pixel vectors, with values going from 0 (white) to 255 (black). We reshape them later to 28x28 grids and normalize the pixel intensity to [-1, 1]\n",
        "\n",
        "if not os.path.isdir('npy_files'):\n",
        "    os.mkdir('npy_files')\n",
        "    \n",
        "url = f'https://storage.googleapis.com/quickdraw_dataset/full/numpy_bitmap/{category}.npy'  \n",
        "urllib.request.urlretrieve(url, f'npy_files/{category}.npy')\n",
        "\n",
        "images = np.load(f'npy_files/{category}.npy')\n",
        "print(f'{len(images)} images to train on')\n",
        "\n",
        "# You can limit the amount of images you use for training by setting :\n",
        "train_images = images[:30000]\n",
        "# You should also define a samller subset of the images for testing..\n",
        "# TODO\n",
        "test_images = images[30000:35000]\n",
        "\n",
        "# Notice that this to numpy format contains 1x784 pixel vectors, with values going from 0 (white) to 255 (black). We reshape them later to 28x28 grids and normalize the pixel intensity to [-1, 1]"
      ]
    },
    {
      "cell_type": "code",
      "execution_count": 5,
      "metadata": {
        "id": "-LudXU_ipxR7"
      },
      "outputs": [],
      "source": [
        "train_dataset = tf.data.Dataset.from_tensor_slices(train_images)\n",
        "test_dataset = tf.data.Dataset.from_tensor_slices(test_images)"
      ]
    },
    {
      "cell_type": "code",
      "execution_count": 6,
      "metadata": {
        "id": "3glKpqD5pxR8"
      },
      "outputs": [],
      "source": [
        "def prepare_data(input_ds):\n",
        "    # change shape to 28x28\n",
        "    ds = input_ds.map(lambda img: tf.reshape(img, (28,28, 1)))\n",
        "    # normalize values\n",
        "    ds = ds.map(lambda img: tf.cast(img, tf.float32)/128. - 1.)\n",
        "\n",
        "    ds = ds.shuffle(1000)\n",
        "    ds = ds.batch(32)\n",
        "    ds = ds.prefetch(tf.data.AUTOTUNE)\n",
        "    return ds"
      ]
    },
    {
      "cell_type": "code",
      "execution_count": 7,
      "metadata": {
        "id": "IzSO1xM9pxR8"
      },
      "outputs": [],
      "source": [
        "train_ds = prepare_data(train_dataset)\n",
        "test_ds = prepare_data(test_dataset)"
      ]
    },
    {
      "cell_type": "code",
      "execution_count": 8,
      "metadata": {
        "id": "ncnJbNwupxR9"
      },
      "outputs": [],
      "source": [
        "class Discriminator(tf.keras.Model):\n",
        "    def __init__(self):\n",
        "        super().__init__()\n",
        "        \n",
        "        self.conv1 = tf.keras.layers.Conv2D(filters=64, kernel_size=3, input_shape=(28,28,1))\n",
        "        self.batch1 = tf.keras.layers.BatchNormalization()\n",
        "        self.conv2 = tf.keras.layers.Conv2D(filters=64, kernel_size=3)\n",
        "        self.batch2 = tf.keras.layers.BatchNormalization()\n",
        "        self.conv3 = tf.keras.layers.Conv2D(filters=64, kernel_size=3)\n",
        "        self.batch3 = tf.keras.layers.BatchNormalization()\n",
        "        self.flatten = tf.keras.layers.Flatten()\n",
        "        self.dense1 = tf.keras.layers.Dense(1, activation=\"sigmoid\")\n",
        "        \n",
        "\n",
        "    @tf.function\n",
        "    def call(self, x, training):\n",
        "        x = self.conv1(x)\n",
        "        x = self.batch1(x, training)\n",
        "        x = self.conv2(x)\n",
        "        x = self.batch2(x, training)\n",
        "        x = self.conv3(x)\n",
        "        x = self.batch3(x, training)\n",
        "        x = self.flatten(x)\n",
        "        return self.dense1(x)"
      ]
    },
    {
      "cell_type": "code",
      "source": [
        "class Generator(tf.keras.Model):\n",
        "    def __init__(self, latent_space=100):\n",
        "        super().__init__()\n",
        "        \n",
        "        self.dense1 = tf.keras.layers.Dense(units=7*7*32, input_shape=(latent_space,))\n",
        "        self.batch1 = tf.keras.layers.BatchNormalization()\n",
        "        self.reshape = tf.keras.layers.Reshape(target_shape=(7,7,32))\n",
        "        self.convt1 = tf.keras.layers.Conv2DTranspose(filters=64, kernel_size=2, strides=(2,2), padding=\"same\")\n",
        "        self.batch2 = tf.keras.layers.BatchNormalization()\n",
        "        self.convt2 = tf.keras.layers.Conv2DTranspose(filters=64, kernel_size=2, strides=(2,2), padding=\"same\")\n",
        "        self.batch3 = tf.keras.layers.BatchNormalization()\n",
        "        self.conv1 = tf.keras.layers.Conv2D(filters=1, kernel_size=3, padding=\"same\", activation=\"tanh\")\n",
        "\n",
        "\n",
        "    @tf.function\n",
        "    def call(self, x, training):\n",
        "        x = self.dense1(x)\n",
        "        x = self.batch1(x, training)\n",
        "        x = self.reshape(x)\n",
        "        x = self.convt1(x)\n",
        "        x = self.batch2(x, training)\n",
        "        x = self.convt2(x)\n",
        "        x = self.batch3(x, training)\n",
        "        return self.conv1(x)\n"
      ],
      "metadata": {
        "id": "vmXc4fwGwTL4"
      },
      "execution_count": 9,
      "outputs": []
    },
    {
      "cell_type": "code",
      "source": [
        "@tf.function\n",
        "def training_step(data, generator, discriminator, gen_optimizer, disc_optimizer, gen_metric, disc_metric):\n",
        "    loss = tf.keras.losses.BinaryCrossentropy()\n",
        "    \n",
        "    for batch in data:\n",
        "        noise = tf.random.normal([tf.shape(batch)[0], 100])\n",
        "\n",
        "        with tf.GradientTape() as tape_disc, tf.GradientTape() as tape_gen:          \n",
        "            generated_batch = generator(noise, training=True)\n",
        "\n",
        "            generated_batch_pred = discriminator(generated_batch, training=True)\n",
        "            batch_pred = discriminator(batch, training=True)\n",
        "\n",
        "            loss_gen = loss(tf.ones_like(generated_batch_pred), generated_batch_pred) \n",
        "            loss_disc = loss(tf.zeros_like(generated_batch_pred), generated_batch_pred) + loss(tf.ones_like(batch_pred), batch_pred) \n",
        "\n",
        "        gen_gradients = tape_gen.gradient(loss_gen, generator.trainable_variables)\n",
        "        disc_gradients = tape_disc.gradient(loss_disc, discriminator.trainable_variables)\n",
        "\n",
        "        gen_optimizer.apply_gradients(zip(gen_gradients, generator.trainable_variables))\n",
        "        disc_optimizer.apply_gradients(zip(disc_gradients, discriminator.trainable_variables))\n",
        "        \n",
        "        gen_metric.update_state(loss_gen)\n",
        "        disc_metric.update_state(loss_disc)"
      ],
      "metadata": {
        "id": "LJN4cksb3RZA"
      },
      "execution_count": 10,
      "outputs": []
    },
    {
      "cell_type": "code",
      "source": [
        "epochs = 10\n",
        "\n",
        "generator = Generator()\n",
        "discriminator = Discriminator()\n",
        "\n",
        "optimizer_gen = tf.keras.optimizers.Adam()\n",
        "optimizer_disc = tf.keras.optimizers.Adam()\n",
        "\n",
        "loss_gen = tf.keras.metrics.Mean('generator_loss')\n",
        "loss_disc = tf.keras.metrics.Mean('discriminator_loss')\n",
        "\n",
        "example_input = tf.expand_dims(tf.random.normal([100]),0)\n",
        "\n",
        "for _ in range(epochs):    \n",
        "    # Training\n",
        "    training_step(train_ds, generator, discriminator, optimizer_gen, optimizer_disc, loss_gen, loss_disc)\n",
        "\n",
        "    cur_loss_gen = loss_gen.result()\n",
        "    cur_loss_disc = loss_disc.result()\n",
        "\n",
        "    print(f\"Current generator loss: {cur_loss_gen}\")\n",
        "    print(f\"Current discriminator loss: {cur_loss_disc}\")\n",
        "\n",
        "    loss_gen.reset_states()\n",
        "    loss_disc.reset_states()\n",
        "\n",
        "    test_image = generator(example_input)\n",
        "    plt.imshow(test_image.numpy().reshape(28,28),cmap= \"gray\")\n",
        "    plt.show()\n",
        "  \n",
        "  "
      ],
      "metadata": {
        "colab": {
          "base_uri": "https://localhost:8080/",
          "height": 1000
        },
        "id": "KvykxW8E4JMo",
        "outputId": "8bd66f30-c3dc-470b-c6d3-5d7ed4215ba2"
      },
      "execution_count": 11,
      "outputs": [
        {
          "output_type": "stream",
          "name": "stdout",
          "text": [
            "Current generator loss: 10.55835247039795\n",
            "Current discriminator loss: 2.7876713275909424\n"
          ]
        },
        {
          "output_type": "display_data",
          "data": {
            "text/plain": [
              "<Figure size 432x288 with 1 Axes>"
            ],
            "image/png": "[encoded data removed]"
          },
          "metadata": {
            "needs_background": "light"
          }
        },
        {
          "output_type": "stream",
          "name": "stdout",
          "text": [
            "Current generator loss: 8.294076919555664\n",
            "Current discriminator loss: 4.317038059234619\n"
          ]
        },
        {
          "output_type": "display_data",
          "data": {
            "text/plain": [
              "<Figure size 432x288 with 1 Axes>"
            ],
            "image/png": "[encoded data removed]"
          },
          "metadata": {
            "needs_background": "light"
          }
        },
        {
          "output_type": "stream",
          "name": "stdout",
          "text": [
            "Current generator loss: 4.1470417976379395\n",
            "Current discriminator loss: 1.6151493787765503\n"
          ]
        },
        {
          "output_type": "display_data",
          "data": {
            "text/plain": [
              "<Figure size 432x288 with 1 Axes>"
            ],
            "image/png": "[encoded data removed]"
          },
          "metadata": {
            "needs_background": "light"
          }
        },
        {
          "output_type": "stream",
          "name": "stdout",
          "text": [
            "Current generator loss: 1.9569236040115356\n",
            "Current discriminator loss: 1.5013344287872314\n"
          ]
        },
        {
          "output_type": "display_data",
          "data": {
            "text/plain": [
              "<Figure size 432x288 with 1 Axes>"
            ],
            "image/png": "[encoded data removed]"
          },
          "metadata": {
            "needs_background": "light"
          }
        },
        {
          "output_type": "stream",
          "name": "stdout",
          "text": [
            "Current generator loss: 1.8371435403823853\n",
            "Current discriminator loss: 1.77067232131958\n"
          ]
        },
        {
          "output_type": "display_data",
          "data": {
            "text/plain": [
              "<Figure size 432x288 with 1 Axes>"
            ],
            "image/png": "[encoded data removed]"
          },
          "metadata": {
            "needs_background": "light"
          }
        },
        {
          "output_type": "stream",
          "name": "stdout",
          "text": [
            "Current generator loss: 1.505799412727356\n",
            "Current discriminator loss: 1.471137523651123\n"
          ]
        },
        {
          "output_type": "display_data",
          "data": {
            "text/plain": [
              "<Figure size 432x288 with 1 Axes>"
            ],
            "image/png": "[encoded data removed]"
          },
          "metadata": {
            "needs_background": "light"
          }
        },
        {
          "output_type": "stream",
          "name": "stdout",
          "text": [
            "Current generator loss: 2.1118898391723633\n",
            "Current discriminator loss: 1.6380505561828613\n"
          ]
        },
        {
          "output_type": "display_data",
          "data": {
            "text/plain": [
              "<Figure size 432x288 with 1 Axes>"
            ],
            "image/png": "[encoded data removed]"
          },
          "metadata": {
            "needs_background": "light"
          }
        },
        {
          "output_type": "stream",
          "name": "stdout",
          "text": [
            "Current generator loss: 1.3881595134735107\n",
            "Current discriminator loss: 1.509392499923706\n"
          ]
        },
        {
          "output_type": "display_data",
          "data": {
            "text/plain": [
              "<Figure size 432x288 with 1 Axes>"
            ],
            "image/png": "[encoded data removed]"
          },
          "metadata": {
            "needs_background": "light"
          }
        },
        {
          "output_type": "stream",
          "name": "stdout",
          "text": [
            "Current generator loss: 1.4560749530792236\n",
            "Current discriminator loss: 1.5777956247329712\n"
          ]
        },
        {
          "output_type": "display_data",
          "data": {
            "text/plain": [
              "<Figure size 432x288 with 1 Axes>"
            ],
            "image/png": "[encoded data removed]"
          },
          "metadata": {
            "needs_background": "light"
          }
        },
        {
          "output_type": "stream",
          "name": "stdout",
          "text": [
            "Current generator loss: 1.28466796875\n",
            "Current discriminator loss: 1.630143165588379\n"
          ]
        },
        {
          "output_type": "display_data",
          "data": {
            "text/plain": [
              "<Figure size 432x288 with 1 Axes>"
            ],
            "image/png": "[encoded data removed]"
          },
          "metadata": {
            "needs_background": "light"
          }
        }
      ]
    }
  ],
  "metadata": {
    "kernelspec": {
      "display_name": "Python 3",
      "language": "python",
      "name": "python3"
    },
    "language_info": {
      "codemirror_mode": {
        "name": "ipython",
        "version": 3
      },
      "file_extension": ".py",
      "mimetype": "text/x-python",
      "name": "python",
      "nbconvert_exporter": "python",
      "pygments_lexer": "ipython3",
      "version": "3.10.6 (main, Nov 14 2022, 16:10:14) [GCC 11.3.0]"
    },
    "orig_nbformat": 4,
    "vscode": {
      "interpreter": {
        "hash": "916dbcbb3f70747c44a77c7bcd40155683ae19c65e1c03b4aa3499c5328201f1"
      }
    },
    "colab": {
      "provenance": []
    },
    "accelerator": "GPU",
    "gpuClass": "standard"
  },
  "nbformat": 4,
  "nbformat_minor": 0
}